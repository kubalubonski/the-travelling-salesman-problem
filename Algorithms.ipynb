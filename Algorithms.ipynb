{
 "cells": [
  {
   "cell_type": "code",
   "execution_count": null,
   "metadata": {},
   "outputs": [],
   "source": []
  },
  {
   "attachments": {},
   "cell_type": "markdown",
   "metadata": {},
   "source": [
    "# Algoritms for solving the traveling salesman problem"
   ]
  },
  {
   "attachments": {},
   "cell_type": "markdown",
   "metadata": {},
   "source": [
    "import libraries"
   ]
  },
  {
   "cell_type": "code",
   "execution_count": 1,
   "metadata": {},
   "outputs": [],
   "source": [
    "import pandas as pd\n",
    "import random as rd\n",
    "import numpy as np\n",
    "from copy import deepcopy"
   ]
  },
  {
   "attachments": {},
   "cell_type": "markdown",
   "metadata": {},
   "source": [
    "loading data"
   ]
  },
  {
   "cell_type": "code",
   "execution_count": 2,
   "metadata": {},
   "outputs": [],
   "source": [
    "df48 = pd.read_excel('Dane_TSP_48.xlsx', header=0, index_col=0)\n",
    "df76 = pd.read_excel('Dane_TSP_76.xlsx', header=0, index_col=0)\n",
    "df127 = pd.read_excel('Dane_TSP_127.xlsx', header=0, index_col=0)"
   ]
  },
  {
   "cell_type": "markdown",
   "metadata": {},
   "source": [
    "## Simulated annealing \n",
    "(neighborhood type: SWAP)"
   ]
  },
  {
   "attachments": {},
   "cell_type": "markdown",
   "metadata": {},
   "source": [
    "Parameters: \n",
    "T_max - maximal temperature,\n",
    "T_min - minimal temperature,\n",
    "alfa - the rate of temperature drop,\n",
    "iter - number of iterations,\n",
    "df - data."
   ]
  },
  {
   "cell_type": "code",
   "execution_count": 3,
   "metadata": {},
   "outputs": [],
   "source": [
    "def SA (T_max, T_min, alfa, iter, df):\n",
    "\n",
    "    # innitial solution\n",
    "    list1 = np.arange(0, len(df)) \n",
    "    rd.shuffle(list1)\n",
    "    list1 = list(list1)\n",
    "    T = T_max\n",
    "    \n",
    "    # stop condition of the algorithm\n",
    "    while T > T_min: \n",
    "        for j in np.arange(0, iter):\n",
    "\n",
    "            # finding a neighboring solution (type: SWAP)\n",
    "            rand = False\n",
    "            while not rand:\n",
    "                # draw two cities to swap\n",
    "                r1 = rd.randint(0, len(df)-1)\n",
    "                r2 = rd.randint(0, len(df)-1)\n",
    "                if r1 != r2:\n",
    "                    rand = True\n",
    "            list2 = deepcopy(list1)   # deepcopy\n",
    "            list2[r1] = list1[r2]\n",
    "            list2[r2] = list1[r1]   # list2 - new, neighboring solution\n",
    "            sum, sum2 = 0, 0\n",
    "            # the sum of the distances for the solutions\n",
    "            for i in np.arange(0, len(df)):\n",
    "                sum = sum + df.iloc[list1[i - 1], list1[i]]\n",
    "                sum2 = sum2 + df.iloc[list2[i - 1], list2[i]]\n",
    "            # checking whether the new solution is better\n",
    "            if sum > sum2:\n",
    "                list1 = deepcopy(list2)\n",
    "            else:      # condition for accepting a worse solution\n",
    "                if np.exp((sum - sum2)/T) > rd.random():\n",
    "                    list1 = deepcopy(list2)\n",
    "        T = T*alfa\n",
    "    sum_min = 0\n",
    "\n",
    "    # Printing the parameter values, the order of the cities and the distance obtained\n",
    "    print(\"Parametres: \", '\\n', 'Number of cities: ', len(df), '\\n', 'Type of neighbourhood: SWAP', '\\n', 'Tempeature max: ', T_max, '\\n', 'Tempeature min: ', T_min, '\\n', 'Alfa: ', alfa, '\\n', 'Number of iterations: ', iter, '\\n')\n",
    "    for i in np.arange(0, len(df)):\n",
    "        sum_min = sum_min + df.iloc[list1[i - 1], list1[i]]\n",
    "    print('RESULTS', '\\n', list1, '\\n', 'Total distance: ', sum_min, '\\n')"
   ]
  },
  {
   "cell_type": "code",
   "execution_count": null,
   "metadata": {},
   "outputs": [],
   "source": []
  },
  {
   "cell_type": "code",
   "execution_count": 4,
   "metadata": {},
   "outputs": [
    {
     "name": "stdout",
     "output_type": "stream",
     "text": [
      "====== TEST 1 ===========\n",
      "Parametres:  \n",
      " Number of cities:  76 \n",
      " Type of neighbourhood: SWAP \n",
      " Tempeature max:  100 \n",
      " Tempeature min:  1 \n",
      " Alfa:  0.5 \n",
      " Number of iterations:  10 \n",
      "\n",
      "RESULTS \n",
      " [6, 12, 36, 48, 71, 17, 27, 22, 41, 26, 10, 9, 16, 13, 39, 11, 31, 34, 20, 4, 5, 19, 21, 23, 2, 35, 38, 1, 18, 15, 30, 8, 14, 74, 0, 32, 59, 56, 54, 33, 50, 52, 60, 44, 3, 47, 69, 49, 70, 68, 64, 7, 51, 72, 55, 63, 62, 40, 37, 66, 43, 57, 45, 75, 24, 73, 46, 65, 28, 29, 53, 42, 67, 58, 61, 25] \n",
      " Total distance:  451504.3083110982 \n",
      "\n"
     ]
    }
   ],
   "source": [
    "print('====== TEST 1 ===========')\n",
    "SA(100, 1, 0.5, 10, df76)\n"
   ]
  },
  {
   "attachments": {},
   "cell_type": "markdown",
   "metadata": {},
   "source": [
    "## Simulated annealing 2\n",
    "(neighborhood type: inversion)"
   ]
  },
  {
   "attachments": {},
   "cell_type": "markdown",
   "metadata": {},
   "source": [
    "Parameters: \n",
    "T_max - maximal temperature,\n",
    "T_min - minimal temperature,\n",
    "alfa - the rate of temperature drop,\n",
    "iter - number of iterations,\n",
    "df - data."
   ]
  },
  {
   "cell_type": "code",
   "execution_count": 5,
   "metadata": {},
   "outputs": [],
   "source": [
    "def SA_inversion (T_max, T_min, alfa, iter, df):\n",
    "\n",
    "    # innitial solution\n",
    "    list1 = np.arange(0, len(df)) \n",
    "    rd.shuffle(list1)\n",
    "    list1 = list(list1)\n",
    "    T = T_max\n",
    "    \n",
    "    # stop condition of the algorithm\n",
    "    while T > T_min: \n",
    "        for j in np.arange(0, iter):\n",
    "\n",
    "            # finding a neighboring solution (type: SWAP)\n",
    "            rand = False\n",
    "            while not rand:\n",
    "                # draw two cities to swap\n",
    "                r1 = rd.randint(0, len(df)-1)\n",
    "                r2 = rd.randint(0, len(df)-1)\n",
    "                if r1 != r2:\n",
    "                    rand = True\n",
    "            list2 = deepcopy(list1)   # deepcopy\n",
    "            list2[r1] = list1[r2]\n",
    "            list2[r2] = list1[r1]   \n",
    "            if r1 < r2:\n",
    "                list2[r1:r2] = reversed(list2[r1:r2])\n",
    "            else:\n",
    "                list2[r2:r1] = reversed(list2[r2:r1])  # list2 - new, neighboring solution\n",
    "            sum, sum2 = 0, 0\n",
    "            # the sum of the distances for the solutions\n",
    "            for i in np.arange(0, len(df)):\n",
    "                sum = sum + df.iloc[list1[i - 1], list1[i]]\n",
    "                sum2 = sum2 + df.iloc[list2[i - 1], list2[i]]\n",
    "            # checking whether the new solution is better\n",
    "            if sum > sum2:\n",
    "                list1 = deepcopy(list2)\n",
    "            else:      # condition for accepting a worse solution\n",
    "                if np.exp((sum - sum2)/T) > rd.random():\n",
    "                    list1 = deepcopy(list2)\n",
    "        T = T*alfa\n",
    "    sum_min = 0\n",
    "\n",
    "    # Printing the parameter values, the order of the cities and the distance obtained\n",
    "    print(\"Parametres: \", '\\n', 'Number of cities: ', len(df), '\\n', 'Type of neighbourhood: SWAP', '\\n', 'Tempeature max: ', T_max, '\\n', 'Tempeature min: ', T_min, '\\n', 'Alfa: ', alfa, '\\n', 'Number of iterations: ', iter, '\\n')\n",
    "    for i in np.arange(0, len(df)):\n",
    "        sum_min = sum_min + df.iloc[list1[i - 1], list1[i]]\n",
    "    print('RESULTS', '\\n', list1, '\\n', 'Total distance: ', sum_min, '\\n')"
   ]
  },
  {
   "attachments": {},
   "cell_type": "markdown",
   "metadata": {},
   "source": [
    "Test"
   ]
  },
  {
   "cell_type": "code",
   "execution_count": 6,
   "metadata": {},
   "outputs": [
    {
     "name": "stdout",
     "output_type": "stream",
     "text": [
      "====== TEST 1 ===========\n",
      "Parametres:  \n",
      " Number of cities:  48 \n",
      " Type of neighbourhood: SWAP \n",
      " Tempeature max:  100 \n",
      " Tempeature min:  1 \n",
      " Alfa:  0.5 \n",
      " Number of iterations:  100 \n",
      "\n",
      "RESULTS \n",
      " [34, 9, 1, 3, 25, 31, 23, 44, 41, 28, 15, 0, 8, 7, 37, 45, 30, 39, 22, 10, 38, 12, 46, 14, 11, 29, 5, 42, 16, 26, 36, 18, 35, 43, 17, 6, 27, 32, 19, 20, 24, 13, 21, 2, 40, 33, 4, 47] \n",
      " Total distance:  17146 \n",
      "\n"
     ]
    }
   ],
   "source": [
    "print('====== TEST 1 ===========')\n",
    "SA_inversion(100,1,0.5,100,df48)"
   ]
  },
  {
   "cell_type": "code",
   "execution_count": null,
   "metadata": {},
   "outputs": [],
   "source": []
  },
  {
   "attachments": {},
   "cell_type": "markdown",
   "metadata": {},
   "source": [
    "## Hill Climbing"
   ]
  },
  {
   "cell_type": "code",
   "execution_count": 7,
   "metadata": {},
   "outputs": [],
   "source": [
    "# function to use chosen neighborhood\n",
    "def find_neigbor(list1, list2, r1, r2, neigborhood, df):\n",
    "    \n",
    "    if neigborhood == \"SWAP\":\n",
    "        list2[r1] = list1[r2]\n",
    "        list2[r2] = list1[r1]   # list2 - new, neighboring solution\n",
    "    if neigborhood == \"inversion\":\n",
    "        if r1 < r2:\n",
    "            list2[r1:r2] = reversed(list2[r1:r2])\n",
    "        else:\n",
    "            list2[r2:r1] = reversed(list2[r2:r1])  # list2 - new, neighboring solution\n",
    "    \n",
    "    return list2"
   ]
  },
  {
   "cell_type": "code",
   "execution_count": 8,
   "metadata": {},
   "outputs": [],
   "source": [
    "def HillClimbing (iter, iter_no_improve, df, neigborhood):\n",
    "\n",
    "    # list1 - innitial solution\n",
    "    list1 = np.arange(0, len(df)) \n",
    "    rd.shuffle(list1)\n",
    "    list1 = list(list1)\n",
    "\n",
    "    k = 0\n",
    "    while k == iter_no_improve or k == iter:\n",
    "\n",
    "        # find a neighboring solution\n",
    "        rand = False\n",
    "        while not rand:\n",
    "            # draw two cities to swap\n",
    "            r1 = rd.randint(0, len(df)-1)\n",
    "            r2 = rd.randint(0, len(df)-1)\n",
    "            if r1 != r2:\n",
    "                rand = True\n",
    "        list2 = deepcopy(list1)   # deepcopy\n",
    "\n",
    "            # function to use chosen neighborhood\n",
    "        find_neigbor(list1, list2, r1, r2, neigborhood, df)\n",
    "            \n",
    "        sum, sum2 = 0, 0\n",
    "        # the sum of the distances for the solutions\n",
    "        for i in np.arange(0, len(df)):\n",
    "            sum = sum + df.iloc[list1[i - 1], list1[i]]\n",
    "            sum2 = sum2 + df.iloc[list2[i - 1], list2[i]]\n",
    "        # checking whether the new solution is better\n",
    "        if sum > sum2:\n",
    "            list1 = deepcopy(list2)\n",
    "        if sum < sum2:\n",
    "            k = k+1\n",
    "          \n",
    "        \n",
    "    sum_min = 0\n",
    "    # Printing the parameter values, the order of the cities and the distance obtained\n",
    "    print(\"Parametres: \", '\\n', 'Number of cities: ', len(df), '\\n', 'Type of neighbourhood:',neigborhood ,'\\n', 'Iteration without improvement: ', iter_no_improve,'\\n', 'Number of iterations: ', iter, '\\n')\n",
    "    for i in np.arange(0, len(df)):\n",
    "        sum_min = sum_min + df.iloc[list1[i - 1], list1[i]]\n",
    "    print('RESULTS', '\\n', list1, '\\n', 'Total distance: ', sum_min, '\\n')   "
   ]
  },
  {
   "attachments": {},
   "cell_type": "markdown",
   "metadata": {},
   "source": [
    "Test"
   ]
  },
  {
   "cell_type": "code",
   "execution_count": 9,
   "metadata": {},
   "outputs": [
    {
     "name": "stdout",
     "output_type": "stream",
     "text": [
      "Parametres:  \n",
      " Number of cities:  127 \n",
      " Type of neighbourhood: inversion \n",
      " Iteration without improvement:  10 \n",
      " Number of iterations:  10 \n",
      "\n",
      "RESULTS \n",
      " [109, 72, 78, 57, 93, 15, 107, 123, 16, 108, 38, 80, 115, 67, 21, 112, 125, 79, 2, 6, 54, 92, 100, 52, 96, 35, 33, 87, 114, 99, 14, 85, 44, 9, 119, 27, 5, 120, 74, 30, 55, 102, 75, 89, 31, 18, 111, 116, 63, 32, 36, 53, 98, 94, 48, 118, 50, 77, 65, 49, 20, 106, 60, 117, 47, 42, 7, 28, 90, 88, 40, 43, 51, 66, 0, 73, 76, 12, 83, 19, 39, 23, 45, 70, 25, 97, 17, 91, 69, 104, 41, 103, 46, 24, 121, 22, 101, 110, 82, 58, 64, 3, 56, 86, 11, 71, 1, 126, 68, 29, 124, 26, 81, 61, 62, 105, 10, 8, 59, 34, 95, 4, 122, 13, 37, 113, 84] \n",
      " Total distance:  672765.4681672411 \n",
      "\n"
     ]
    }
   ],
   "source": [
    "HillClimbing(10,10,df127, \"inversion\")"
   ]
  }
 ],
 "metadata": {
  "kernelspec": {
   "display_name": "Python 3",
   "language": "python",
   "name": "python3"
  },
  "language_info": {
   "codemirror_mode": {
    "name": "ipython",
    "version": 3
   },
   "file_extension": ".py",
   "mimetype": "text/x-python",
   "name": "python",
   "nbconvert_exporter": "python",
   "pygments_lexer": "ipython3",
   "version": "3.11.2"
  },
  "orig_nbformat": 4
 },
 "nbformat": 4,
 "nbformat_minor": 2
}
