{
 "cells": [
  {
   "cell_type": "code",
   "execution_count": null,
   "metadata": {},
   "outputs": [],
   "source": []
  },
  {
   "attachments": {},
   "cell_type": "markdown",
   "metadata": {},
   "source": [
    "# Algoritms for solving the traveling salesman problem"
   ]
  },
  {
   "attachments": {},
   "cell_type": "markdown",
   "metadata": {},
   "source": []
  },
  {
   "attachments": {},
   "cell_type": "markdown",
   "metadata": {},
   "source": [
    "import libraries"
   ]
  },
  {
   "cell_type": "code",
   "execution_count": 11,
   "metadata": {},
   "outputs": [],
   "source": [
    "import pandas as pd\n",
    "import random as rd\n",
    "import numpy as np\n",
    "from copy import deepcopy"
   ]
  },
  {
   "attachments": {},
   "cell_type": "markdown",
   "metadata": {},
   "source": [
    "loading data"
   ]
  },
  {
   "cell_type": "code",
   "execution_count": 12,
   "metadata": {},
   "outputs": [],
   "source": [
    "#df29 = pd.read_excel('dane29testowe.xlsx', header=0, index_col=0)\n",
    "df48 = pd.read_excel('Dane_TSP_48.xlsx', header=0, index_col=0)\n",
    "df76 = pd.read_excel('Dane_TSP_76.xlsx', header=0, index_col=0)\n",
    "df127 = pd.read_excel('Dane_TSP_127.xlsx', header=0, index_col=0)"
   ]
  },
  {
   "attachments": {},
   "cell_type": "markdown",
   "metadata": {},
   "source": [
    "## Simulated annealing"
   ]
  },
  {
   "attachments": {},
   "cell_type": "markdown",
   "metadata": {},
   "source": [
    "Parameters: \n",
    "T_max - maximal temperature,\n",
    "T_min - minimal temperature,\n",
    "alfa - the rate of temperature drop,\n",
    "iter - number of iterations,\n",
    "df - data."
   ]
  },
  {
   "cell_type": "code",
   "execution_count": 13,
   "metadata": {},
   "outputs": [],
   "source": [
    "def SA (T_max, T_min, alfa, iter, df):\n",
    "\n",
    "    #Innitial solution\n",
    "    list1 = np.arange(0, len(df)) \n",
    "    rd.shuffle(list1)\n",
    "    list1 = list(list1)\n",
    "    T = T_max\n",
    "    \n",
    "    # stop condition of the algorithm\n",
    "    while T > T_min: \n",
    "        for j in np.arange(0, iter):\n",
    "\n",
    "            # finding a neighboring solution (type: SWAP)\n",
    "            rand = False\n",
    "            while not rand:\n",
    "                # draw two cities to swap\n",
    "                r1 = rd.randint(0, len(df)-1)\n",
    "                r2 = rd.randint(0, len(df)-1)\n",
    "                if r1 != r2:\n",
    "                    rand = True\n",
    "            list2 = deepcopy(list1)   # deepcopy\n",
    "            list2[r1] = list1[r2]\n",
    "            list2[r2] = list1[r1]   # list2 - new, neighboring solution\n",
    "            sum, sum2 = 0, 0\n",
    "            # the sum of the distances for the solutions\n",
    "            for i in np.arange(0, len(df)):\n",
    "                sum = sum + df.iloc[list1[i - 1], list1[i]]\n",
    "                sum2 = sum2 + df.iloc[list2[i - 1], list2[i]]\n",
    "            # checking whether the new solution is better\n",
    "            if sum > sum2:\n",
    "                list1 = deepcopy(list2)\n",
    "            else:      # condition for accepting a worse solution\n",
    "                if np.exp((sum - sum2)/T) > rd.random():\n",
    "                    list1 = deepcopy(list2)\n",
    "        T = T*alfa\n",
    "    sum_min = 0\n",
    "\n",
    "    # Printing the parameter values, the order of the cities and the distance obtained\n",
    "    print(\"Parametres: \", '\\n', 'Number of cities: ', len(df), '\\n', 'Type of neighbourhood: SWAP', '\\n', 'Tempeature max: ', T_max, '\\n', 'Tempeature min: ', T_min, '\\n', 'Alfa: ', alfa, '\\n', 'Number of iterations: ', iter, '\\n')\n",
    "    for i in np.arange(0, len(df)):\n",
    "        sum_min = sum_min + df.iloc[list1[i - 1], list1[i]]\n",
    "    print('RESULTS', '\\n', list1, '\\n', 'Total distance: ', sum_min, '\\n')"
   ]
  },
  {
   "cell_type": "code",
   "execution_count": 14,
   "metadata": {},
   "outputs": [
    {
     "name": "stdout",
     "output_type": "stream",
     "text": [
      "======TEST  1 ===========\n",
      "Parametres:  \n",
      " Number of cities:  76 \n",
      " Type of neighbourhood: SWAP \n",
      " Tempeature max:  100 \n",
      " Tempeature min:  1 \n",
      " Alfa:  0.5 \n",
      " Liczba prób w danej temperaturze:  10 \n",
      "\n",
      "RESULTS \n",
      " [1, 0, 31, 5, 74, 75, 39, 36, 70, 26, 37, 12, 73, 19, 11, 9, 16, 32, 69, 51, 48, 21, 8, 68, 2, 35, 29, 3, 45, 46, 66, 44, 14, 57, 50, 42, 54, 53, 62, 64, 20, 24, 49, 4, 52, 17, 13, 22, 18, 10, 67, 65, 30, 55, 56, 60, 15, 47, 43, 71, 72, 25, 27, 41, 38, 58, 59, 33, 61, 63, 23, 28, 34, 6, 40, 7] \n",
      " Total distance:  450399.5220180258 \n",
      "\n",
      "======TEST  2 ===========\n",
      "Parametres:  \n",
      " Number of cities:  76 \n",
      " Type of neighbourhood: SWAP \n",
      " Tempeature max:  100 \n",
      " Tempeature min:  1 \n",
      " Alfa:  0.5 \n",
      " Liczba prób w danej temperaturze:  10 \n",
      "\n",
      "RESULTS \n",
      " [24, 22, 74, 67, 1, 9, 28, 58, 52, 49, 68, 66, 64, 35, 29, 32, 12, 0, 21, 41, 75, 45, 40, 30, 71, 48, 10, 8, 46, 62, 51, 3, 15, 6, 44, 43, 53, 39, 36, 5, 18, 65, 70, 16, 73, 72, 34, 2, 13, 4, 14, 20, 69, 59, 60, 57, 26, 63, 50, 23, 61, 25, 47, 38, 42, 19, 17, 55, 56, 54, 11, 7, 37, 33, 27, 31] \n",
      " Total distance:  492688.54518792237 \n",
      "\n",
      "======TEST  3 ===========\n",
      "Parametres:  \n",
      " Number of cities:  76 \n",
      " Type of neighbourhood: SWAP \n",
      " Tempeature max:  100 \n",
      " Tempeature min:  1 \n",
      " Alfa:  0.5 \n",
      " Liczba prób w danej temperaturze:  10 \n",
      "\n",
      "RESULTS \n",
      " [45, 25, 52, 32, 33, 59, 56, 49, 44, 62, 27, 69, 40, 39, 37, 29, 12, 19, 31, 26, 43, 60, 61, 7, 16, 6, 3, 30, 21, 1, 24, 41, 28, 64, 50, 51, 66, 72, 71, 53, 58, 67, 36, 10, 70, 63, 15, 34, 68, 13, 17, 35, 11, 0, 54, 9, 18, 57, 74, 47, 65, 38, 73, 22, 46, 5, 55, 42, 48, 75, 2, 4, 23, 20, 14, 8] \n",
      " Total distance:  470094.5916630757 \n",
      "\n",
      "======TEST  4 ===========\n",
      "Parametres:  \n",
      " Number of cities:  76 \n",
      " Type of neighbourhood: SWAP \n",
      " Tempeature max:  100 \n",
      " Tempeature min:  1 \n",
      " Alfa:  0.5 \n",
      " Liczba prób w danej temperaturze:  10 \n",
      "\n",
      "RESULTS \n",
      " [10, 16, 21, 19, 58, 8, 13, 73, 11, 68, 30, 14, 37, 54, 24, 40, 33, 4, 31, 39, 72, 61, 18, 0, 36, 56, 55, 52, 38, 1, 5, 26, 51, 47, 25, 29, 50, 35, 63, 46, 64, 65, 70, 41, 20, 2, 15, 74, 22, 75, 9, 32, 42, 28, 34, 17, 7, 12, 23, 45, 57, 66, 67, 44, 53, 60, 71, 49, 48, 27, 43, 62, 3, 6, 69, 59] \n",
      " Total distance:  449180.4089026761 \n",
      "\n"
     ]
    }
   ],
   "source": [
    "d=0\n",
    "while d < 4:\n",
    "    print('======TEST ', d+1, '===========')\n",
    "    SA(100, 1, 0.5, 10, df76)\n",
    "    d += 1"
   ]
  }
 ],
 "metadata": {
  "kernelspec": {
   "display_name": "Python 3",
   "language": "python",
   "name": "python3"
  },
  "language_info": {
   "codemirror_mode": {
    "name": "ipython",
    "version": 3
   },
   "file_extension": ".py",
   "mimetype": "text/x-python",
   "name": "python",
   "nbconvert_exporter": "python",
   "pygments_lexer": "ipython3",
   "version": "3.11.2"
  },
  "orig_nbformat": 4
 },
 "nbformat": 4,
 "nbformat_minor": 2
}
