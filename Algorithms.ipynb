{
 "cells": [
  {
   "cell_type": "code",
   "execution_count": null,
   "metadata": {},
   "outputs": [],
   "source": []
  },
  {
   "attachments": {},
   "cell_type": "markdown",
   "metadata": {},
   "source": [
    "# Algoritms for solving the traveling salesman problem"
   ]
  },
  {
   "attachments": {},
   "cell_type": "markdown",
   "metadata": {},
   "source": [
    "import libraries"
   ]
  },
  {
   "cell_type": "code",
   "execution_count": 11,
   "metadata": {},
   "outputs": [],
   "source": [
    "import pandas as pd\n",
    "import random as rd\n",
    "import numpy as np\n",
    "from copy import deepcopy"
   ]
  },
  {
   "attachments": {},
   "cell_type": "markdown",
   "metadata": {},
   "source": [
    "loading data"
   ]
  },
  {
   "cell_type": "code",
   "execution_count": 12,
   "metadata": {},
   "outputs": [],
   "source": [
    "df48 = pd.read_excel('Dane_TSP_48.xlsx', header=0, index_col=0)\n",
    "df76 = pd.read_excel('Dane_TSP_76.xlsx', header=0, index_col=0)\n",
    "df127 = pd.read_excel('Dane_TSP_127.xlsx', header=0, index_col=0)"
   ]
  },
  {
   "cell_type": "markdown",
   "metadata": {},
   "source": [
    "## Simulated annealing \n",
    "(neighborhood type: SWAP)"
   ]
  },
  {
   "attachments": {},
   "cell_type": "markdown",
   "metadata": {},
   "source": [
    "Parameters: \n",
    "T_max - maximal temperature,\n",
    "T_min - minimal temperature,\n",
    "alfa - the rate of temperature drop,\n",
    "iter - number of iterations,\n",
    "df - data."
   ]
  },
  {
   "cell_type": "code",
   "execution_count": 16,
   "metadata": {},
   "outputs": [],
   "source": [
    "def SA (T_max, T_min, alfa, iter, df):\n",
    "\n",
    "    # innitial solution\n",
    "    list1 = np.arange(0, len(df)) \n",
    "    rd.shuffle(list1)\n",
    "    list1 = list(list1)\n",
    "    T = T_max\n",
    "    \n",
    "    # stop condition of the algorithm\n",
    "    while T > T_min: \n",
    "        for j in np.arange(0, iter):\n",
    "\n",
    "            # finding a neighboring solution (type: SWAP)\n",
    "            rand = False\n",
    "            while not rand:\n",
    "                # draw two cities to swap\n",
    "                r1 = rd.randint(0, len(df)-1)\n",
    "                r2 = rd.randint(0, len(df)-1)\n",
    "                if r1 != r2:\n",
    "                    rand = True\n",
    "            list2 = deepcopy(list1)   # deepcopy\n",
    "            list2[r1] = list1[r2]\n",
    "            list2[r2] = list1[r1]   # list2 - new, neighboring solution\n",
    "            sum, sum2 = 0, 0\n",
    "            # the sum of the distances for the solutions\n",
    "            for i in np.arange(0, len(df)):\n",
    "                sum = sum + df.iloc[list1[i - 1], list1[i]]\n",
    "                sum2 = sum2 + df.iloc[list2[i - 1], list2[i]]\n",
    "            # checking whether the new solution is better\n",
    "            if sum > sum2:\n",
    "                list1 = deepcopy(list2)\n",
    "            else:      # condition for accepting a worse solution\n",
    "                if np.exp((sum - sum2)/T) > rd.random():\n",
    "                    list1 = deepcopy(list2)\n",
    "        T = T*alfa\n",
    "    sum_min = 0\n",
    "\n",
    "    # Printing the parameter values, the order of the cities and the distance obtained\n",
    "    print(\"Parametres: \", '\\n', 'Number of cities: ', len(df), '\\n', 'Type of neighbourhood: SWAP', '\\n', 'Tempeature max: ', T_max, '\\n', 'Tempeature min: ', T_min, '\\n', 'Alfa: ', alfa, '\\n', 'Number of iterations: ', iter, '\\n')\n",
    "    for i in np.arange(0, len(df)):\n",
    "        sum_min = sum_min + df.iloc[list1[i - 1], list1[i]]\n",
    "    print('RESULTS', '\\n', list1, '\\n', 'Total distance: ', sum_min, '\\n')"
   ]
  },
  {
   "cell_type": "code",
   "execution_count": null,
   "metadata": {},
   "outputs": [],
   "source": []
  },
  {
   "cell_type": "code",
   "execution_count": 15,
   "metadata": {},
   "outputs": [
    {
     "name": "stdout",
     "output_type": "stream",
     "text": [
      "====== TEST 1 ===========\n",
      "Parametres:  \n",
      " Number of cities:  76 \n",
      " Type of neighbourhood: SWAP \n",
      " Tempeature max:  100 \n",
      " Tempeature min:  1 \n",
      " Alfa:  0.5 \n",
      " Liczba prób w danej temperaturze:  10 \n",
      "\n",
      "RESULTS \n",
      " [13, 40, 5, 69, 19, 18, 65, 55, 57, 64, 50, 66, 75, 22, 4, 62, 53, 31, 48, 45, 41, 43, 21, 72, 70, 54, 44, 30, 14, 32, 61, 63, 71, 47, 11, 12, 24, 3, 74, 67, 51, 60, 58, 33, 38, 36, 68, 27, 10, 46, 39, 35, 2, 37, 52, 56, 73, 42, 9, 34, 16, 23, 20, 1, 28, 26, 15, 59, 49, 25, 29, 0, 7, 8, 6, 17] \n",
      " Total distance:  468215.61559297616 \n",
      "\n"
     ]
    }
   ],
   "source": [
    "print('====== TEST 1 ===========')\n",
    "SA(100, 1, 0.5, 10, df76)\n"
   ]
  },
  {
   "attachments": {},
   "cell_type": "markdown",
   "metadata": {},
   "source": [
    "## Simulated annealing 2\n",
    "(neighborhood type: inversion)"
   ]
  },
  {
   "attachments": {},
   "cell_type": "markdown",
   "metadata": {},
   "source": [
    "Parameters: \n",
    "T_max - maximal temperature,\n",
    "T_min - minimal temperature,\n",
    "alfa - the rate of temperature drop,\n",
    "iter - number of iterations,\n",
    "df - data."
   ]
  },
  {
   "cell_type": "code",
   "execution_count": null,
   "metadata": {},
   "outputs": [],
   "source": [
    "def SA_inversion (T_max, T_min, alfa, iter, df):\n",
    "\n",
    "    # innitial solution\n",
    "    list1 = np.arange(0, len(df)) \n",
    "    rd.shuffle(list1)\n",
    "    list1 = list(list1)\n",
    "    T = T_max\n",
    "    \n",
    "    # stop condition of the algorithm\n",
    "    while T > T_min: \n",
    "        for j in np.arange(0, iter):\n",
    "\n",
    "            # finding a neighboring solution (type: SWAP)\n",
    "            rand = False\n",
    "            while not rand:\n",
    "                # draw two cities to swap\n",
    "                r1 = rd.randint(0, len(df)-1)\n",
    "                r2 = rd.randint(0, len(df)-1)\n",
    "                if r1 != r2:\n",
    "                    rand = True\n",
    "            list2 = deepcopy(list1)   # deepcopy\n",
    "            list2[r1] = list1[r2]\n",
    "            list2[r2] = list1[r1]   \n",
    "            if r1 < r2:\n",
    "                list2[r1:r2] = reversed(list2[r1:r2])\n",
    "            else:\n",
    "                list2[r2:r1] = reversed(list2[r2:r1])  # list2 - new, neighboring solution\n",
    "            sum, sum2 = 0, 0\n",
    "            # the sum of the distances for the solutions\n",
    "            for i in np.arange(0, len(df)):\n",
    "                sum = sum + df.iloc[list1[i - 1], list1[i]]\n",
    "                sum2 = sum2 + df.iloc[list2[i - 1], list2[i]]\n",
    "            # checking whether the new solution is better\n",
    "            if sum > sum2:\n",
    "                list1 = deepcopy(list2)\n",
    "            else:      # condition for accepting a worse solution\n",
    "                if np.exp((sum - sum2)/T) > rd.random():\n",
    "                    list1 = deepcopy(list2)\n",
    "        T = T*alfa\n",
    "    sum_min = 0\n",
    "\n",
    "    # Printing the parameter values, the order of the cities and the distance obtained\n",
    "    print(\"Parametres: \", '\\n', 'Number of cities: ', len(df), '\\n', 'Type of neighbourhood: SWAP', '\\n', 'Tempeature max: ', T_max, '\\n', 'Tempeature min: ', T_min, '\\n', 'Alfa: ', alfa, '\\n', 'Number of iterations: ', iter, '\\n')\n",
    "    for i in np.arange(0, len(df)):\n",
    "        sum_min = sum_min + df.iloc[list1[i - 1], list1[i]]\n",
    "    print('RESULTS', '\\n', list1, '\\n', 'Total distance: ', sum_min, '\\n')"
   ]
  },
  {
   "attachments": {},
   "cell_type": "markdown",
   "metadata": {},
   "source": [
    "Test"
   ]
  },
  {
   "cell_type": "code",
   "execution_count": null,
   "metadata": {},
   "outputs": [],
   "source": [
    "print('====== TEST 1 ===========')\n",
    "SA_inversion(100,1,0.5,100,df48)"
   ]
  },
  {
   "cell_type": "code",
   "execution_count": null,
   "metadata": {},
   "outputs": [],
   "source": []
  }
 ],
 "metadata": {
  "kernelspec": {
   "display_name": "Python 3",
   "language": "python",
   "name": "python3"
  },
  "language_info": {
   "codemirror_mode": {
    "name": "ipython",
    "version": 3
   },
   "file_extension": ".py",
   "mimetype": "text/x-python",
   "name": "python",
   "nbconvert_exporter": "python",
   "pygments_lexer": "ipython3",
   "version": "3.11.2"
  },
  "orig_nbformat": 4
 },
 "nbformat": 4,
 "nbformat_minor": 2
}
